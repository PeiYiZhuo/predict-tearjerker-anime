{
 "cells": [
  {
   "cell_type": "markdown",
   "id": "a94c2286",
   "metadata": {},
   "source": [
    "# When Computers Cry: Predicting Tearjerker Anime Using Scikit-learn"
   ]
  },
  {
   "cell_type": "markdown",
   "id": "a0797fa3",
   "metadata": {},
   "source": [
    "One of the few pieces of media to have ever coaxed tears from me is Kyoto Animation's devastating 2008 anime series *Clannad: After Story*, a show that I enthusiatically recommend. And I do so not in spite of the fact that it crushed my soul but because of it. If anything, I consider an anime's ability to turn on the waterworks to be a marker of quality. Most of my favorite anime are considered tearjerkers, *A Place Further than the Universe*, *Your Name*, and *K-On* come to mind as notable examples. Even if I don't tear up while watching them, a decent attempt made by an anime's creators still gets enormous credit from me. Given my interest in anime, I decided to take on the task of predicting tearjerker anime as a starter project for me to clarify and advance my understanding of machine learning and Scikit-learn.\n",
    "\n",
    "Using data scraped off of the website MyAnimeList courtesy of , here's what I did . . .\n",
    "\n",
    "1. Determined for anime whether each is a tearjerker or not based on the frequency of key words, \"cry\", \"tears,\" etc., in their reviews.\n",
    "2. Used the synopsis of the anime from MyAnimeList along with to predict "
   ]
  },
  {
   "cell_type": "code",
   "execution_count": 1,
   "id": "09bf65a5",
   "metadata": {},
   "outputs": [],
   "source": [
    "# Import libraries \n",
    "import pandas as pd\n",
    "import numpy as np\n",
    "import matplotlib.pyplot as plt\n",
    "import string\n",
    "import re\n",
    "# https://pub.towardsai.net/emoticon-and-emoji-in-text-mining-7392c49f596a\n",
    "# https://medium.com/geekculture/text-preprocessing-how-to-handle-emoji-emoticon-641bbfa6e9e7\n",
    "from emot.emo_unicode import EMOTICONS_EMO, EMOJI_UNICODE\n",
    "# https://www.kaggle.com/code/shsagar/finding-anime-genre-based-on-synopsis-logistic-reg\n",
    "import nltk\n",
    "from nltk.corpus import stopwords"
   ]
  },
  {
   "cell_type": "markdown",
   "id": "fd399243",
   "metadata": {},
   "source": [
    "# Wrangle Anime Data"
   ]
  },
  {
   "cell_type": "code",
   "execution_count": null,
   "id": "8b0a4a5e",
   "metadata": {},
   "outputs": [],
   "source": [
    "# Load data\n",
    "# https://www.kaggle.com/datasets/marlesson/myanimelist-dataset-animes-profiles-reviews?select=animes.csv\n",
    "animes = pd.read_csv(\"data/animes.csv\") \n",
    "# https://www.kaggle.com/datasets/azathoth42/myanimelist?select=AnimeList.csv\n",
    "AnimeList = pd.read_csv(\"data/AnimeList.csv\")"
   ]
  },
  {
   "cell_type": "code",
   "execution_count": null,
   "id": "fa86bccb",
   "metadata": {},
   "outputs": [],
   "source": [
    "AnimeList = AnimeList[[\"anime_id\", \n",
    "                       \"title_english\", \n",
    "                       \"title_synonyms\", \n",
    "                       \"type\", \n",
    "                       \"source\", \n",
    "                       \"producer\", \n",
    "                       \"licensor\", \n",
    "                       \"studio\"]]\n",
    "animes = animes.merge(AnimeList, how = \"left\", left_on = \"uid\", right_on = \"anime_id\")\n",
    "anime = animes[[\"uid\", \n",
    "                \"title\", \n",
    "                \"title_english\", \n",
    "                \"title_synonyms\",\n",
    "                \"score\",\n",
    "                \"members\",\n",
    "                \"type\",\n",
    "                \"episodes\",\n",
    "                \"synopsis\", \n",
    "                \"genre\", \n",
    "                \"source\", \n",
    "                \"studio\",\n",
    "                \"producer\", \n",
    "                \"licensor\"]]\n",
    "anime = anime.drop_duplicates()\n",
    "anime.head()"
   ]
  },
  {
   "cell_type": "markdown",
   "id": "f3d55bdc",
   "metadata": {},
   "source": [
    "# What is a tearjerker anime?"
   ]
  },
  {
   "cell_type": "markdown",
   "id": "41ff2e23",
   "metadata": {},
   "source": [
    "In order to predict tearjerker anime, I must define it. To construct this target vector, I used a dataset of anime reviews. Thus, the determination of whether an anime is a tearjerker or not is based upon reviewers' reactions."
   ]
  },
  {
   "cell_type": "code",
   "execution_count": null,
   "id": "d205eb4e",
   "metadata": {},
   "outputs": [],
   "source": [
    "# reviews = pd.read_csv(\"data/reviews.csv\")\n",
    "# reviews = reviews.drop_duplicates()"
   ]
  },
  {
   "cell_type": "code",
   "execution_count": null,
   "id": "c3335c90",
   "metadata": {},
   "outputs": [],
   "source": [
    "# import math\n",
    "\n",
    "# total_rows = len(reviews)\n",
    "# max_rows = 10000\n",
    "# num_files = math.ceil(total_rows/max_rows)\n",
    "\n",
    "# start = 0\n",
    "# end = 9999\n",
    "\n",
    "# for i in range(1, num_files + 1):\n",
    "#     i = str(i)\n",
    "#     print(\"Writing file #\" + i)\n",
    "#     reviews.iloc[start:(end + 1), :].to_csv(\"data/reviews/reviews\" + i + \".csv\", index = False)\n",
    "#     start += 10000\n",
    "#     end += 10000"
   ]
  },
  {
   "cell_type": "code",
   "execution_count": null,
   "id": "9a8840c6",
   "metadata": {},
   "outputs": [],
   "source": [
    "# Read in data\n",
    "reviews = pd.read_csv(\"data/reviews/reviews1.csv\")\n",
    "for i in range(2, 15):\n",
    "    i = str(i)\n",
    "    print(f\"Concatenating data file #{i}\")\n",
    "    addition = pd.read_csv(f\"data/reviews/reviews{i}.csv\")\n",
    "    reviews = pd.concat([reviews, addition])"
   ]
  },
  {
   "cell_type": "code",
   "execution_count": null,
   "id": "57ebabac",
   "metadata": {},
   "outputs": [],
   "source": [
    "# Keep only relevant fields\n",
    "reviews = reviews[[\"uid\", \"anime_uid\", \"link\", \"text\"]]"
   ]
  },
  {
   "cell_type": "code",
   "execution_count": null,
   "id": "d22a92f8",
   "metadata": {},
   "outputs": [],
   "source": [
    "review_counts = reviews.groupby(\"anime_uid\")[\"anime_uid\"].count() \n",
    "keep_anime = review_counts[review_counts >= 10].index.tolist()\n",
    "reviews = reviews[reviews[\"anime_uid\"].isin(keep_anime)]\n",
    "reviews = reviews.reset_index(drop = True)"
   ]
  },
  {
   "cell_type": "code",
   "execution_count": null,
   "id": "917101c3",
   "metadata": {},
   "outputs": [],
   "source": [
    "# n = reviews.groupby(\"anime_uid\")[\"uid\"].nunique().rename(\"n\")\n",
    "# reviews = reviews.sort_values([\"anime_uid\", \"uid\"]).groupby(\"anime_uid\").head(1)\n",
    "# reviews = reviews.merge(n, how = \"left\", left_on = \"anime_uid\", right_index = True)"
   ]
  },
  {
   "cell_type": "markdown",
   "id": "e481d3f7",
   "metadata": {},
   "source": [
    "## Remove front and back matter"
   ]
  },
  {
   "cell_type": "code",
   "execution_count": null,
   "id": "cba92f5b",
   "metadata": {},
   "outputs": [],
   "source": [
    "filler = re.compile(r\"^[\\s\\w]*Enjoyment[\\s\\d]*|\\s*Helpful\\s*$\") # Assumes reviews never start with a number\n",
    "reviews[\"text\"] = reviews[\"text\"].str.replace(filler, \"\")"
   ]
  },
  {
   "cell_type": "markdown",
   "id": "2ea346fe",
   "metadata": {},
   "source": [
    "## Replace emoticons"
   ]
  },
  {
   "cell_type": "markdown",
   "id": "286e197e",
   "metadata": {},
   "source": [
    "The reviews feature heavy use of emoticons. These symbols allow users to succintly communicate an emotional reaction through pictograms comprised of punctuation, letters, numbers, etc. Because they convey information on emotion, I want to retain them to help me determine whether an anime is a tearjerker or not. However, since they include punctuation, which will be removed from the text later on in the process of constructing the target vector, I opted to replace them with verbal descriptions.\n",
    "\n",
    "I used a dictionary of emoticons from the `emot` library ..."
   ]
  },
  {
   "cell_type": "code",
   "execution_count": null,
   "id": "7ba493fd",
   "metadata": {},
   "outputs": [],
   "source": [
    "# http://introtopython.org/dictionaries.html#General-Syntax\n",
    "emoticons = {}\n",
    "for symbol, meaning in EMOTICONS_EMO.items():\n",
    "    emoticons[symbol] = \"\".join([word.capitalize() for word in meaning.replace(\",\", \"\").split()])"
   ]
  },
  {
   "cell_type": "markdown",
   "id": "e4395ea7",
   "metadata": {},
   "source": [
    "... and added a few missing emoticons."
   ]
  },
  {
   "cell_type": "code",
   "execution_count": null,
   "id": "57fbb438",
   "metadata": {},
   "outputs": [],
   "source": [
    "emoticons[\"(^—^)\"] = \"NormalLaugh\"\n",
    "emoticons[\"-_-“\"] = \"Troubled\" \n",
    "emoticons[\":s)\"] = \"HappyFaceOrSmiley\" \n",
    "emoticons[\":S)\"] = \"HappyFaceOrSmiley\" \n",
    "# https://en.wikipedia.org/wiki/List_of_emoticons\n",
    "emoticons[\">W<\"] = \"Troubled\"\n",
    "emoticons[\"-_-'\"] = \"Troubled\"\n",
    "# https://www.urbandictionary.com/define.php?term=%3E_%3E\n",
    "emoticons[\">_>\"] = \"RightSidewaysLook\"\n",
    "emoticons[\"<_<\"] = \"LeftSidewaysLook\""
   ]
  },
  {
   "cell_type": "markdown",
   "id": "5788f9a8",
   "metadata": {},
   "source": [
    "Since many long emoticons are simply short ones with additional characters, I sorted the emoticons in descending order according to their length so that, later on, the longer emoticons would be matched prior to shorter emoticons. "
   ]
  },
  {
   "cell_type": "code",
   "execution_count": null,
   "id": "eaecd1ba",
   "metadata": {},
   "outputs": [],
   "source": [
    "# https://stackoverflow.com/questions/613183/how-do-i-sort-a-dictionary-by-value\n",
    "# https://www.w3schools.com/python/ref_func_sorted.asp\n",
    "emoticons = dict(sorted(emoticons.items(), key = lambda item: -len(item[0])))"
   ]
  },
  {
   "cell_type": "markdown",
   "id": "d7e5895d",
   "metadata": {},
   "source": [
    "I then assembled a list of emoticons that feature in both the dictionary and the reviews. I managed to get 97 unique emoticons, but I'm sure I missed some T_T."
   ]
  },
  {
   "cell_type": "code",
   "execution_count": null,
   "id": "72ca775b",
   "metadata": {},
   "outputs": [],
   "source": [
    "# https://www.pythonforbeginners.com/basics/list-comprehensions-in-python\n",
    "# https://www.geeksforgeeks.org/python-accessing-key-value-in-dictionary/\n",
    "# https://stackoverflow.com/questions/4202538/escape-special-characters-in-a-python-string\n",
    "pattern = \"\\s(\" + \"|\".join([re.escape(emoticon) for emoticon in emoticons]) + \")\\W?\"\n",
    "used_emoticons = reviews[\"text\"].str.extractall(pattern)"
   ]
  },
  {
   "cell_type": "markdown",
   "id": "b6f32092",
   "metadata": {},
   "source": [
    "Here, I'm converting the dataframe of used emoticons into a dictionary."
   ]
  },
  {
   "cell_type": "code",
   "execution_count": null,
   "id": "7f80c65a",
   "metadata": {},
   "outputs": [],
   "source": [
    "# https://www.digitalocean.com/community/tutorials/python-convert-numpy-array-to-list\n",
    "used_emoticons = used_emoticons.dropna().drop_duplicates().iloc[:, 0].tolist()\n",
    "# https://stackoverflow.com/questions/5352546/extract-subset-of-key-value-pairs-from-dictionary\n",
    "used_emoticons = {symbol: emoticons[symbol] for symbol in used_emoticons}"
   ]
  },
  {
   "cell_type": "markdown",
   "id": "8f858c4b",
   "metadata": {},
   "source": [
    "Again, I'm sorting the emoticons according to their length."
   ]
  },
  {
   "cell_type": "code",
   "execution_count": null,
   "id": "d180c89c",
   "metadata": {},
   "outputs": [],
   "source": [
    "used_emoticons = dict(sorted(used_emoticons.items(), key = lambda item: -len(item[0])))"
   ]
  },
  {
   "cell_type": "markdown",
   "id": "8a6a26df",
   "metadata": {},
   "source": [
    "Now, I'm looping through each emoticon and replacing it with its respective value in the dictionary if it's preceded by a white space and followed by a non-word character. These conditions are meant to reduce the likelihood of false-positives."
   ]
  },
  {
   "cell_type": "code",
   "execution_count": null,
   "id": "aef79d42",
   "metadata": {},
   "outputs": [],
   "source": [
    "for symbol, meaning in used_emoticons.items():\n",
    "    print(f\"Replacing {symbol} with {meaning}\")\n",
    "    reviews[\"text\"] = reviews[\"text\"].str.replace(\"(?<=\\s)\" + re.escape(symbol) + \"(?=\\W?)\", meaning, regex = True)"
   ]
  },
  {
   "cell_type": "code",
   "execution_count": null,
   "id": "5728e5ca",
   "metadata": {},
   "outputs": [],
   "source": [
    "reviews.to_csv(\"data/intermediates/replace_emoticons.csv\", index = False)\n",
    "reviews = pd.read_csv(\"data/intermediates/replace_emoticons.csv\")"
   ]
  },
  {
   "cell_type": "markdown",
   "id": "548a606c",
   "metadata": {},
   "source": [
    "## Drop titles"
   ]
  },
  {
   "cell_type": "markdown",
   "id": "bcb30836",
   "metadata": {},
   "source": [
    "I use the appearance of key words such as \"cry\" and \"tears\" in user reviews to determine whether an anime is a tearjerker or not. Some anime include these key words in their titles, meaning users really can't help but mention them in their reviews. Thus, to ensure that I'll only be counting authentic appearances of these terms, I exclude the title of the anime being discussed from the text of each review.\n",
    "\n",
    "*True Tears* is a peculiar case because one of its characters' ability to cry is a central plot point. Thus, reviewers who are summarizing its story mention crying quite a lot even after scrubbing its reviews of any mention of the title."
   ]
  },
  {
   "cell_type": "code",
   "execution_count": null,
   "id": "fad06604",
   "metadata": {},
   "outputs": [],
   "source": [
    "reviews = reviews.merge(\n",
    "    anime[[\"uid\", \"title\", \"title_english\", \"title_synonyms\"]], \n",
    "    how = \"left\", left_on = \"anime_uid\", right_on = \"uid\"\n",
    ")\n",
    "reviews = reviews.drop(columns = \"uid_y\").rename(columns = {\"uid_x\": \"uid\"})\n",
    "reviews[\"text\"] = reviews[\"text\"].str.lower()\n",
    "reviews[\"title\"] = reviews[\"title\"].str.lower()\n",
    "reviews[\"title_english\"] = reviews[\"title_english\"].str.lower()\n",
    "reviews[\"title_synonyms\"] = reviews[\"title_synonyms\"].str.lower()"
   ]
  },
  {
   "cell_type": "code",
   "execution_count": null,
   "id": "bbab3c7e",
   "metadata": {},
   "outputs": [],
   "source": [
    "for field in [\"title\", \"title_english\", \"title_synonyms\"]:\n",
    "    for i in range(len(reviews)):\n",
    "        print(f\"Processing row #{str(i)} for {field}\")\n",
    "        title = reviews[field].iloc[i]\n",
    "        if not pd.isna(title):\n",
    "            unigrams = reviews[field].iloc[[i]].str.split().iloc[0]\n",
    "            # http://www.locallyoptimal.com/blog/2013/01/20/elegant-n-gram-generation-in-python/\n",
    "            bigrams = [\" \".join(unigram) for unigram in list(zip(unigrams, unigrams[1:]))]\n",
    "            pattern = \"|\".join([re.escape(title)] + [re.escape(bigram) for bigram in bigrams])\n",
    "            reviews[\"text\"].iloc[[i]] = reviews[\"text\"].iloc[[i]].str.replace(pattern, \"\", regex = True)"
   ]
  },
  {
   "cell_type": "code",
   "execution_count": null,
   "id": "a6b286c4",
   "metadata": {},
   "outputs": [],
   "source": [
    "# reviews = reviews.drop(columns = [\"title\", \"title_english\", \"title_synonyms\"])\n",
    "# reviews.to_csv(\"data/intermediates/drop_titles.csv\", index = False)\n",
    "reviews = pd.read_csv(\"data/intermediates/drop_titles.csv\")"
   ]
  },
  {
   "cell_type": "markdown",
   "id": "89b58543",
   "metadata": {},
   "source": [
    "## Tokenize text"
   ]
  },
  {
   "cell_type": "markdown",
   "id": "0f27d72c",
   "metadata": {},
   "source": [
    "I turn the table of reviews where each row is one review into a table of tokens where each row is one token from a review."
   ]
  },
  {
   "cell_type": "code",
   "execution_count": null,
   "id": "84cc0b60",
   "metadata": {},
   "outputs": [],
   "source": [
    "reviews[\"text\"] = reviews[\"text\"].str.strip()\n",
    "reviews[\"text\"] = reviews[\"text\"].str.replace(\"\\\\\", \" \", regex = True)\n",
    "reviews[\"text\"] = reviews[\"text\"].str.replace(\"/\", \" \")                                      \n",
    "reviews[\"text\"] = reviews[\"text\"].str.replace(\"‘\", \"'\").str.replace(\"’\", \"'\")\n",
    "reviews[\"text\"] = reviews[\"text\"].str.replace(\"“\", '\"').str.replace(\"”\", '\"')\n",
    "# \"–\" is used as punctuation while \"-\" is used to create phrases\n",
    "pattern = \"[\" + string.punctuation.replace(\"'\", \"\").replace(\"-\", \"\") + \"–\" + \"…\" + \"]\" \n",
    "pattern = pattern + r\"|(?<=\\s)'(?=\\w)|(?<=\\w)'(?=\\s)\"\n",
    "reviews[\"text\"] = reviews[\"text\"].str.replace(pattern, \"\", regex = True)"
   ]
  },
  {
   "cell_type": "code",
   "execution_count": null,
   "id": "1fafef88",
   "metadata": {},
   "outputs": [],
   "source": [
    "reviews[\"text\"] = reviews[\"text\"].str.split()\n",
    "reviews = reviews.explode(\"text\")"
   ]
  },
  {
   "cell_type": "code",
   "execution_count": null,
   "id": "b77ba334",
   "metadata": {},
   "outputs": [],
   "source": [
    "reviews.to_csv(\"data/intermediates/tokenize_text.csv\", index = False)\n",
    "reviews = pd.read_csv(\"data/intermediates/tokenize_text.csv\", na_filter = False)"
   ]
  },
  {
   "cell_type": "markdown",
   "id": "8555994d",
   "metadata": {},
   "source": [
    "## Replace non-word characters except for emojis and select punctuation"
   ]
  },
  {
   "cell_type": "markdown",
   "id": "9ca51a32",
   "metadata": {},
   "source": [
    "To further cleanse the tokens, I want to drop all non-word characters that aren't emojis. For the same reason as emoticons, I want to use emojis to create my target vector because they convey emotional information. First, I create a list of the unique non-word characters present in the reviews."
   ]
  },
  {
   "cell_type": "code",
   "execution_count": null,
   "id": "41c24573",
   "metadata": {},
   "outputs": [],
   "source": [
    "unique_tokens = reviews[\"text\"].drop_duplicates()\n",
    "non_word = unique_tokens.str.extractall(r\"(\\W)\").drop_duplicates()\n",
    "non_word = non_word.iloc[:, 0].tolist()"
   ]
  },
  {
   "cell_type": "markdown",
   "id": "b571ea57",
   "metadata": {},
   "source": [
    "Next, I reformat the definitions from the emoji dictionary that I obtained from the `emot` library."
   ]
  },
  {
   "cell_type": "code",
   "execution_count": null,
   "id": "98a68511",
   "metadata": {},
   "outputs": [],
   "source": [
    "emojis = {}\n",
    "for meaning, symbol in EMOJI_UNICODE.items():\n",
    "    emojis[symbol] = meaning "
   ]
  },
  {
   "cell_type": "markdown",
   "id": "b76a6804",
   "metadata": {},
   "source": [
    "I also create a regex pattern that separates all the characters that I want to drop by a pipe, `|`."
   ]
  },
  {
   "cell_type": "code",
   "execution_count": null,
   "id": "8949ae6e",
   "metadata": {},
   "outputs": [],
   "source": [
    "# https://stackoverflow.com/questions/51976328/best-way-to-remove-xad-in-python\n",
    "# https://stackoverflow.com/questions/31522361/python-getting-rid-of-u200b-from-a-string-using-regular-expressions\n",
    "# https://stackoverflow.com/questions/17912307/u-ufeff-in-python-string\n",
    "drop = [char for char in non_word if char not in emojis]\n",
    "drop.remove(\"'\")\n",
    "drop.remove(\"-\")\n",
    "drop = \"|\".join(drop) # Create regex pattern"
   ]
  },
  {
   "cell_type": "markdown",
   "id": "62892f82",
   "metadata": {},
   "source": [
    "Using the pattern created above, I replace the specified non-word characters with empty strings. I drop these empty strings along with tokens that are comprised of consecutive hyphens. These tokens are used by reviewers as horizontal lines to format their pieces. However, I have no use for them."
   ]
  },
  {
   "cell_type": "code",
   "execution_count": null,
   "id": "5231c0d4",
   "metadata": {},
   "outputs": [],
   "source": [
    "reviews[\"text\"] = reviews[\"text\"].str.replace(drop, \"\", regex = True)\n",
    "reviews = reviews[(reviews[\"text\"] != \"\") & ~(reviews[\"text\"].str.fullmatch(r\"(-+)\"))]"
   ]
  },
  {
   "cell_type": "markdown",
   "id": "0fbf0568",
   "metadata": {},
   "source": [
    "## Remove stopwords"
   ]
  },
  {
   "cell_type": "markdown",
   "id": "14feee58",
   "metadata": {},
   "source": [
    "I drop the rows of the table that belonged to stop words."
   ]
  },
  {
   "cell_type": "code",
   "execution_count": 2,
   "id": "a2e89917",
   "metadata": {},
   "outputs": [
    {
     "name": "stderr",
     "output_type": "stream",
     "text": [
      "[nltk_data] Downloading package stopwords to\n",
      "[nltk_data]     /Users/peiyizhuo/nltk_data...\n",
      "[nltk_data]   Package stopwords is already up-to-date!\n"
     ]
    }
   ],
   "source": [
    "nltk.download(\"stopwords\")\n",
    "stopwords = list(stopwords.words(\"English\"))"
   ]
  },
  {
   "cell_type": "code",
   "execution_count": null,
   "id": "7f76c5cd",
   "metadata": {},
   "outputs": [],
   "source": [
    "reviews = reviews[~reviews[\"text\"].isin(stopwords)]"
   ]
  },
  {
   "cell_type": "code",
   "execution_count": null,
   "id": "e8fefbed",
   "metadata": {},
   "outputs": [],
   "source": [
    "# reviews.to_csv(\"data/intermediates/cleaned_text.csv\", index = False)\n",
    "reviews = pd.read_csv(\"data/intermediates/cleaned_text.csv\")"
   ]
  },
  {
   "cell_type": "markdown",
   "id": "69e5f175",
   "metadata": {},
   "source": [
    "## Add target field"
   ]
  },
  {
   "cell_type": "markdown",
   "id": "adc4f4ad",
   "metadata": {},
   "source": [
    "Here I define what I mean by a \"tearjerker\" anime. An anime is considered a tearjerker if its reviews feature at least one word from the `sad_words` list in addition to at least one from `cry_words`. This dual criteria serves as an indicator of whether an anime prompted its audience to weap from sadness."
   ]
  },
  {
   "cell_type": "code",
   "execution_count": null,
   "id": "a058db86",
   "metadata": {},
   "outputs": [],
   "source": [
    "sad_words = [\"sad\",\n",
    "             \"saddest\",\n",
    "             \"emotion\",\n",
    "             \"emotions\",\n",
    "             \"emotional\",\n",
    "             \"emotionally\",\n",
    "             \"depressed\",\n",
    "             \"depressing\",\n",
    "             \"depressingly\",\n",
    "             \"tragic\",\n",
    "             \"tragedy\",\n",
    "             \"sentimental\"]\n",
    "\n",
    "cry_words = [\"cry\", \n",
    "             \"cried\", \n",
    "             \"crying\", \n",
    "             \"sob\", \n",
    "             \"sobbed\", \n",
    "             \"sobbing\", \n",
    "             \"bawl\", \n",
    "             \"bawled\", \n",
    "             \"bawling\", \n",
    "             \"tear\", \n",
    "             \"tears\", \n",
    "             \"teared\", \n",
    "             \"tearing\", # as in \"tearing up\"\n",
    "             \"sadorcrying\",\n",
    "             \"tearsofhappiness\",\n",
    "             \"sadofcrying\",\n",
    "             \"😭\"]\n",
    "\n",
    "reviews[\"sad\"] = reviews[\"text\"].isin(sad_words)\n",
    "reviews[\"cry\"] = reviews[\"text\"].isin(cry_words)"
   ]
  },
  {
   "cell_type": "code",
   "execution_count": null,
   "id": "7e337f3c",
   "metadata": {},
   "outputs": [],
   "source": [
    "cry_vote = reviews.groupby([\"anime_uid\", \"uid\"]).agg(\n",
    "    sad = pd.NamedAgg(column = \"sad\", aggfunc = \"sum\"),\n",
    "    cry = pd.NamedAgg(column = \"cry\", aggfunc = \"sum\")\n",
    ")\n",
    "cry_vote[\"cry\"] = (cry_vote[\"sad\"] > 0) & (cry_vote[\"cry\"] > 0)\n",
    "cry_vote = cry_vote[\"cry\"].reset_index()\n",
    "cry_vote = cry_vote.groupby(\"anime_uid\").agg(\n",
    "    cry = pd.NamedAgg(column = \"cry\", aggfunc = \"mean\"),\n",
    "    reviews = pd.NamedAgg(column = \"uid\", aggfunc = \"nunique\")\n",
    ")\n",
    "cry_vote[\"cry\"] = cry_vote[\"cry\"] > 0\n",
    "cry_vote = cry_vote.reset_index()"
   ]
  },
  {
   "cell_type": "code",
   "execution_count": null,
   "id": "b749f88b",
   "metadata": {},
   "outputs": [],
   "source": [
    "cry_vote[(cry_vote[\"anime_uid\"] == 30276) & (cry_vote[\"cry\"])]"
   ]
  },
  {
   "cell_type": "code",
   "execution_count": null,
   "id": "a8e32792",
   "metadata": {},
   "outputs": [],
   "source": [
    "reviews"
   ]
  },
  {
   "cell_type": "code",
   "execution_count": null,
   "id": "74be4d69",
   "metadata": {},
   "outputs": [],
   "source": [
    "reviews[reviews[\"uid\"] == 206604][\"link\"].iloc[0]"
   ]
  },
  {
   "cell_type": "code",
   "execution_count": null,
   "id": "97830a02",
   "metadata": {},
   "outputs": [],
   "source": [
    "anime = cry_vote.merge(anime, how = \"left\", left_on = \"anime_uid\", right_on = \"uid\").drop(columns = \"anime_uid\")"
   ]
  },
  {
   "cell_type": "code",
   "execution_count": null,
   "id": "9eee456e",
   "metadata": {},
   "outputs": [],
   "source": [
    "anime.to_csv(\"data/intermediates/anime.csv\", index = False)\n",
    "anime = pd.read_csv(\"data/intermediates/anime.csv\")"
   ]
  },
  {
   "cell_type": "markdown",
   "id": "121bc06e",
   "metadata": {},
   "source": [
    "# Create test set"
   ]
  },
  {
   "cell_type": "code",
   "execution_count": null,
   "id": "1f11d855",
   "metadata": {},
   "outputs": [],
   "source": [
    "from sklearn.model_selection import train_test_split\n",
    "train_set, test_set = train_test_split(anime, test_size = 0.2, random_state = 500)"
   ]
  },
  {
   "cell_type": "code",
   "execution_count": 3,
   "id": "8072375c",
   "metadata": {},
   "outputs": [],
   "source": [
    "# train_set.to_csv(\"data/intermediates/train.csv\", index = False)\n",
    "train_set = pd.read_csv(\"data/intermediates/train.csv\")"
   ]
  },
  {
   "cell_type": "markdown",
   "id": "ed377fdc",
   "metadata": {},
   "source": [
    "# EDA"
   ]
  },
  {
   "cell_type": "code",
   "execution_count": 4,
   "id": "7f3addb5",
   "metadata": {},
   "outputs": [
    {
     "data": {
      "text/html": [
       "<div>\n",
       "<style scoped>\n",
       "    .dataframe tbody tr th:only-of-type {\n",
       "        vertical-align: middle;\n",
       "    }\n",
       "\n",
       "    .dataframe tbody tr th {\n",
       "        vertical-align: top;\n",
       "    }\n",
       "\n",
       "    .dataframe thead th {\n",
       "        text-align: right;\n",
       "    }\n",
       "</style>\n",
       "<table border=\"1\" class=\"dataframe\">\n",
       "  <thead>\n",
       "    <tr style=\"text-align: right;\">\n",
       "      <th></th>\n",
       "      <th>cry</th>\n",
       "      <th>reviews</th>\n",
       "      <th>uid</th>\n",
       "      <th>title</th>\n",
       "      <th>title_english</th>\n",
       "      <th>title_synonyms</th>\n",
       "      <th>score</th>\n",
       "      <th>members</th>\n",
       "      <th>type</th>\n",
       "      <th>episodes</th>\n",
       "      <th>synopsis</th>\n",
       "      <th>genre</th>\n",
       "      <th>source</th>\n",
       "      <th>studio</th>\n",
       "      <th>producer</th>\n",
       "      <th>licensor</th>\n",
       "    </tr>\n",
       "  </thead>\n",
       "  <tbody>\n",
       "    <tr>\n",
       "      <th>0</th>\n",
       "      <td>False</td>\n",
       "      <td>20</td>\n",
       "      <td>32271</td>\n",
       "      <td>Dies Irae</td>\n",
       "      <td>Dies irae</td>\n",
       "      <td>Day of Wrath</td>\n",
       "      <td>5.46</td>\n",
       "      <td>97796</td>\n",
       "      <td>TV</td>\n",
       "      <td>11.0</td>\n",
       "      <td>On May 1, 1945 in Berlin, as the Red Army rais...</td>\n",
       "      <td>['Action', 'Military', 'Super Power', 'Magic']</td>\n",
       "      <td>Visual novel</td>\n",
       "      <td>A.C.G.T.</td>\n",
       "      <td>Genco, DMM pictures, Greenwood, My Theater D.D...</td>\n",
       "      <td>Funimation</td>\n",
       "    </tr>\n",
       "    <tr>\n",
       "      <th>1</th>\n",
       "      <td>True</td>\n",
       "      <td>45</td>\n",
       "      <td>856</td>\n",
       "      <td>Utawarerumono</td>\n",
       "      <td>Utawarerumono</td>\n",
       "      <td>The One Being Sung</td>\n",
       "      <td>7.71</td>\n",
       "      <td>126612</td>\n",
       "      <td>TV</td>\n",
       "      <td>26.0</td>\n",
       "      <td>An injured man is found in the woods by a girl...</td>\n",
       "      <td>['Action', 'Drama', 'Fantasy', 'Sci-Fi']</td>\n",
       "      <td>Visual novel</td>\n",
       "      <td>OLM</td>\n",
       "      <td>Lantis, Half H.P Studio, AQUAPLUS</td>\n",
       "      <td>ADV Films, Funimation</td>\n",
       "    </tr>\n",
       "    <tr>\n",
       "      <th>2</th>\n",
       "      <td>False</td>\n",
       "      <td>20</td>\n",
       "      <td>17821</td>\n",
       "      <td>Stella Jogakuin Koutou-ka C³-bu</td>\n",
       "      <td>Stella Women&amp;#039;s Academy, High School Divis...</td>\n",
       "      <td>Stella Jogakuin Koutouka C3-bu, Stella Jogakui...</td>\n",
       "      <td>6.57</td>\n",
       "      <td>46285</td>\n",
       "      <td>TV</td>\n",
       "      <td>13.0</td>\n",
       "      <td>Yura Yamato has just arrived at the high schoo...</td>\n",
       "      <td>['Military', 'School', 'Sports']</td>\n",
       "      <td>Manga</td>\n",
       "      <td>Gainax</td>\n",
       "      <td>Pony Canyon, TBS, RAY</td>\n",
       "      <td>Sentai Filmworks</td>\n",
       "    </tr>\n",
       "    <tr>\n",
       "      <th>3</th>\n",
       "      <td>False</td>\n",
       "      <td>14</td>\n",
       "      <td>2969</td>\n",
       "      <td>Appleseed Saga Ex Machina</td>\n",
       "      <td>Appleseed: Ex Machina</td>\n",
       "      <td>Appleseed 2, Appleseed 2007</td>\n",
       "      <td>7.41</td>\n",
       "      <td>33606</td>\n",
       "      <td>Movie</td>\n",
       "      <td>1.0</td>\n",
       "      <td>Deunan, a young female warrior, and Briareos, ...</td>\n",
       "      <td>['Action', 'Mecha', 'Military', 'Sci-Fi']</td>\n",
       "      <td>Unknown</td>\n",
       "      <td>Digital Frontier</td>\n",
       "      <td>Sega</td>\n",
       "      <td>ADV Films, Warner Bros.</td>\n",
       "    </tr>\n",
       "    <tr>\n",
       "      <th>4</th>\n",
       "      <td>False</td>\n",
       "      <td>30</td>\n",
       "      <td>257</td>\n",
       "      <td>Ikkitousen</td>\n",
       "      <td>Ikki Tousen</td>\n",
       "      <td>Ikki-Tosen: Legendary Fighter, Battle Vixens</td>\n",
       "      <td>6.53</td>\n",
       "      <td>118837</td>\n",
       "      <td>TV</td>\n",
       "      <td>13.0</td>\n",
       "      <td>In  Ikkitousen , the Kanto region of Japan is ...</td>\n",
       "      <td>['Ecchi', 'Super Power', 'Martial Arts', 'Scho...</td>\n",
       "      <td>Manga</td>\n",
       "      <td>J.C.Staff</td>\n",
       "      <td>Genco, Cosmic Ray, Eye Move, Bushiroad</td>\n",
       "      <td>Funimation, Geneon Entertainment USA</td>\n",
       "    </tr>\n",
       "  </tbody>\n",
       "</table>\n",
       "</div>"
      ],
      "text/plain": [
       "     cry  reviews    uid                            title  \\\n",
       "0  False       20  32271                        Dies Irae   \n",
       "1   True       45    856                    Utawarerumono   \n",
       "2  False       20  17821  Stella Jogakuin Koutou-ka C³-bu   \n",
       "3  False       14   2969        Appleseed Saga Ex Machina   \n",
       "4  False       30    257                       Ikkitousen   \n",
       "\n",
       "                                       title_english  \\\n",
       "0                                          Dies irae   \n",
       "1                                      Utawarerumono   \n",
       "2  Stella Women&#039;s Academy, High School Divis...   \n",
       "3                              Appleseed: Ex Machina   \n",
       "4                                        Ikki Tousen   \n",
       "\n",
       "                                      title_synonyms  score  members   type  \\\n",
       "0                                       Day of Wrath   5.46    97796     TV   \n",
       "1                                 The One Being Sung   7.71   126612     TV   \n",
       "2  Stella Jogakuin Koutouka C3-bu, Stella Jogakui...   6.57    46285     TV   \n",
       "3                        Appleseed 2, Appleseed 2007   7.41    33606  Movie   \n",
       "4       Ikki-Tosen: Legendary Fighter, Battle Vixens   6.53   118837     TV   \n",
       "\n",
       "   episodes                                           synopsis  \\\n",
       "0      11.0  On May 1, 1945 in Berlin, as the Red Army rais...   \n",
       "1      26.0  An injured man is found in the woods by a girl...   \n",
       "2      13.0  Yura Yamato has just arrived at the high schoo...   \n",
       "3       1.0  Deunan, a young female warrior, and Briareos, ...   \n",
       "4      13.0  In  Ikkitousen , the Kanto region of Japan is ...   \n",
       "\n",
       "                                               genre        source  \\\n",
       "0     ['Action', 'Military', 'Super Power', 'Magic']  Visual novel   \n",
       "1           ['Action', 'Drama', 'Fantasy', 'Sci-Fi']  Visual novel   \n",
       "2                   ['Military', 'School', 'Sports']         Manga   \n",
       "3          ['Action', 'Mecha', 'Military', 'Sci-Fi']       Unknown   \n",
       "4  ['Ecchi', 'Super Power', 'Martial Arts', 'Scho...         Manga   \n",
       "\n",
       "             studio                                           producer  \\\n",
       "0          A.C.G.T.  Genco, DMM pictures, Greenwood, My Theater D.D...   \n",
       "1               OLM                  Lantis, Half H.P Studio, AQUAPLUS   \n",
       "2            Gainax                              Pony Canyon, TBS, RAY   \n",
       "3  Digital Frontier                                               Sega   \n",
       "4         J.C.Staff             Genco, Cosmic Ray, Eye Move, Bushiroad   \n",
       "\n",
       "                               licensor  \n",
       "0                            Funimation  \n",
       "1                 ADV Films, Funimation  \n",
       "2                      Sentai Filmworks  \n",
       "3               ADV Films, Warner Bros.  \n",
       "4  Funimation, Geneon Entertainment USA  "
      ]
     },
     "execution_count": 4,
     "metadata": {},
     "output_type": "execute_result"
    }
   ],
   "source": [
    "train_set.head()"
   ]
  },
  {
   "cell_type": "code",
   "execution_count": null,
   "id": "efa0cadd",
   "metadata": {},
   "outputs": [],
   "source": [
    "train_set.info()"
   ]
  },
  {
   "cell_type": "code",
   "execution_count": null,
   "id": "c26a2e1b",
   "metadata": {},
   "outputs": [],
   "source": [
    "print(f\"Proportion of tearjerker anime: {(train_set['cry']).mean()}\")"
   ]
  },
  {
   "cell_type": "code",
   "execution_count": null,
   "id": "c3cfad07",
   "metadata": {},
   "outputs": [],
   "source": [
    "train_set[train_set[\"cry\"]].sort_values(by = \"members\", ascending = False).head()"
   ]
  },
  {
   "cell_type": "markdown",
   "id": "322badef",
   "metadata": {},
   "source": [
    "I was suprised to see *One Punch Man* on this list since, in my view, it was as far from a tearjerker as one could get. However, one reviewer with the username taikuroki disagreed.\n",
    ">This anime is one for the books. It was so enjoyable it has gotten to the point where I am literally pre-ordering the English manga sets, and potential Blu-ray release of the anime. It’s a definite GOAT for me; on the top 5 of my list. It had me laughing, **crying**, yelling, and pretending all at once while watching. It’s been a while since I have seen an anime so great that I am out here praising it, unbiased of course."
   ]
  },
  {
   "cell_type": "code",
   "execution_count": null,
   "id": "467df43b",
   "metadata": {},
   "outputs": [],
   "source": [
    "train_set[~train_set[\"cry\"]].sort_values(by = \"members\", ascending = False).head()"
   ]
  },
  {
   "cell_type": "code",
   "execution_count": 21,
   "id": "375b4f84",
   "metadata": {},
   "outputs": [],
   "source": [
    "plt.style.use(\"seaborn\")"
   ]
  },
  {
   "cell_type": "code",
   "execution_count": null,
   "id": "02aa6eee",
   "metadata": {},
   "outputs": [],
   "source": [
    "plt.figure(figsize = (16, 4))\n",
    "\n",
    "genres = train_set[[\"cry\", \"genre\"]].copy()\n",
    "genres[\"genre\"] = genres[\"genre\"].str.replace(r\"[\\[\\]']\", \"\", regex = True).str.split(\", \")\n",
    "genres = genres.explode(\"genre\")\n",
    "cry = genres[genres[\"cry\"]].groupby(\"genre\")[\"genre\"].count()\n",
    "cry = cry.rename(\"count\").reset_index().sort_values(by = \"count\").tail()\n",
    "no_cry = genres[~genres[\"cry\"]].groupby(\"genre\")[\"genre\"].count()\n",
    "no_cry = no_cry.rename(\"count\").reset_index().sort_values(by = \"count\").tail()\n",
    "\n",
    "plt.subplot(1, 2, 1)\n",
    "plt.barh(cry[\"genre\"], cry[\"count\"])\n",
    "plt.title(\"Tearjerker\")\n",
    "plt.xlabel(\"Animes\")\n",
    "\n",
    "plt.subplot(1, 2, 2)\n",
    "plt.barh(no_cry[\"genre\"], no_cry[\"count\"])\n",
    "plt.title(\"Non-Tearjerker\")\n",
    "plt.xlabel(\"Animes\")\n",
    "\n",
    "plt.subplots_adjust(wspace = 0.3)\n",
    "\n",
    "plt.tight_layout()\n",
    "plt.savefig(\"plots/genres.png\", dpi = 300)"
   ]
  },
  {
   "cell_type": "code",
   "execution_count": null,
   "id": "4552c8b5",
   "metadata": {},
   "outputs": [],
   "source": [
    "plt.figure(figsize = (16, 4))\n",
    "\n",
    "cry = train_set[train_set[\"cry\"]][[\"source\"]].groupby(\"source\")[\"source\"].count()\n",
    "cry = cry.rename(\"count\").reset_index().sort_values(by = \"count\").tail()\n",
    "\n",
    "no_cry = train_set[~train_set[\"cry\"]][[\"source\"]].groupby(\"source\")[\"source\"].count()\n",
    "no_cry = no_cry.rename(\"count\").reset_index().sort_values(by = \"count\").tail()\n",
    "\n",
    "plt.subplot(1, 2, 1)\n",
    "plt.barh(cry[\"source\"], cry[\"count\"])\n",
    "plt.title(\"Tearjerker\")\n",
    "plt.xlabel(\"Animes\")\n",
    "\n",
    "plt.subplot(1, 2, 2)\n",
    "plt.barh(no_cry[\"source\"], no_cry[\"count\"])\n",
    "plt.title(\"Non-Tearjerker\")\n",
    "plt.xlabel(\"Animes\")\n",
    "\n",
    "plt.tight_layout()\n",
    "plt.savefig(\"plots/sources.png\", dpi = 300)"
   ]
  },
  {
   "cell_type": "code",
   "execution_count": null,
   "id": "ce04edad",
   "metadata": {},
   "outputs": [],
   "source": [
    "plt.figure(figsize = (16, 4))\n",
    "\n",
    "types = train_set[[\"cry\", \"type\"]]\n",
    "cry = types[types[\"cry\"]][[\"type\"]].groupby(\"type\")[\"type\"].count().sort_values()\n",
    "no_cry = types[~types[\"cry\"]][[\"type\"]].groupby(\"type\")[\"type\"].count().sort_values()\n",
    "\n",
    "plt.subplot(1, 2, 1)\n",
    "plt.barh(cry.index, cry.values)\n",
    "plt.title(\"Tearjerker\")\n",
    "plt.xlabel(\"Animes\")\n",
    "\n",
    "plt.subplot(1, 2, 2)\n",
    "plt.barh(no_cry.index, no_cry.values)\n",
    "plt.title(\"Non-Tearjerker\")\n",
    "plt.xlabel(\"Animes\")\n",
    "\n",
    "plt.tight_layout()\n",
    "plt.savefig(\"plots/types.png\", dpi = 300)"
   ]
  },
  {
   "cell_type": "code",
   "execution_count": null,
   "id": "64a43a40",
   "metadata": {},
   "outputs": [],
   "source": [
    "plt.figure(figsize = (16, 8))\n",
    "\n",
    "plot_num = 1\n",
    "for var in [\"score\", \"members\", \"episodes\", \"reviews\"]:\n",
    "    plt.subplot(2, 2, plot_num)\n",
    "    cry = train_set[train_set[\"cry\"]][var].dropna()\n",
    "    no_cry = train_set[~train_set[\"cry\"]][var].dropna()\n",
    "    plt.boxplot([cry, no_cry], vert = False, widths = 0.6,\n",
    "                showfliers = False, labels = [\"Tearjerker\", \"Non-Tearjerker\"])\n",
    "    plt.xlabel(var.capitalize())\n",
    "    plot_num += 1\n",
    "\n",
    "# https://www.geeksforgeeks.org/how-to-set-the-spacing-between-subplots-in-matplotlib-in-python/\n",
    "plt.subplots_adjust(wspace = 0.4, hspace = 0.4)\n",
    "\n",
    "plt.tight_layout()\n",
    "plt.savefig(\"plots/numeric.png\", dpi = 300)"
   ]
  },
  {
   "cell_type": "markdown",
   "id": "6c30f777",
   "metadata": {},
   "source": [
    "# Model training"
   ]
  },
  {
   "cell_type": "markdown",
   "id": "7a892f1e",
   "metadata": {},
   "source": [
    "## Select desired rows and columns"
   ]
  },
  {
   "cell_type": "code",
   "execution_count": 5,
   "id": "3f104274",
   "metadata": {},
   "outputs": [],
   "source": [
    "train_set = train_set[[\"cry\", \"score\", \"members\", \"type\", \"episodes\", \"synopsis\", \"genre\", \"source\", \"studio\"]]\n",
    "train_set = train_set.dropna().reset_index(drop = True)"
   ]
  },
  {
   "cell_type": "code",
   "execution_count": 6,
   "id": "ce2c045a",
   "metadata": {},
   "outputs": [],
   "source": [
    "y_train = train_set[\"cry\"]\n",
    "X_train = train_set[[\"score\", \"members\", \"type\", \"episodes\", \"synopsis\", \"genre\", \"source\", \"studio\"]]"
   ]
  },
  {
   "cell_type": "markdown",
   "id": "46ee976b",
   "metadata": {},
   "source": [
    "## Clean `genre`, `studio`, and `synopsis` for `CountVectorizer`"
   ]
  },
  {
   "cell_type": "code",
   "execution_count": 7,
   "id": "5ca55720",
   "metadata": {},
   "outputs": [
    {
     "name": "stderr",
     "output_type": "stream",
     "text": [
      "<ipython-input-7-eab3bee462ac>:1: SettingWithCopyWarning: \n",
      "A value is trying to be set on a copy of a slice from a DataFrame.\n",
      "Try using .loc[row_indexer,col_indexer] = value instead\n",
      "\n",
      "See the caveats in the documentation: https://pandas.pydata.org/pandas-docs/stable/user_guide/indexing.html#returning-a-view-versus-a-copy\n",
      "  X_train[\"genre\"] = X_train[\"genre\"].str.replace(\"[\\[\\]']\", \"\", regex = True).str.split(\", \")\n",
      "<ipython-input-7-eab3bee462ac>:2: SettingWithCopyWarning: \n",
      "A value is trying to be set on a copy of a slice from a DataFrame.\n",
      "Try using .loc[row_indexer,col_indexer] = value instead\n",
      "\n",
      "See the caveats in the documentation: https://pandas.pydata.org/pandas-docs/stable/user_guide/indexing.html#returning-a-view-versus-a-copy\n",
      "  X_train[\"genre\"] = X_train[\"genre\"].apply(lambda genres: [genre.replace(\" \", \"\") for genre in genres])\n",
      "<ipython-input-7-eab3bee462ac>:3: SettingWithCopyWarning: \n",
      "A value is trying to be set on a copy of a slice from a DataFrame.\n",
      "Try using .loc[row_indexer,col_indexer] = value instead\n",
      "\n",
      "See the caveats in the documentation: https://pandas.pydata.org/pandas-docs/stable/user_guide/indexing.html#returning-a-view-versus-a-copy\n",
      "  X_train[\"genre\"] = X_train[\"genre\"].apply(lambda genres: \" \".join(genres))\n"
     ]
    }
   ],
   "source": [
    "X_train[\"genre\"] = X_train[\"genre\"].str.replace(\"[\\[\\]']\", \"\", regex = True).str.split(\", \")\n",
    "X_train[\"genre\"] = X_train[\"genre\"].apply(lambda genres: [genre.replace(\" \", \"\") for genre in genres])\n",
    "X_train[\"genre\"] = X_train[\"genre\"].apply(lambda genres: \" \".join(genres))"
   ]
  },
  {
   "cell_type": "code",
   "execution_count": 8,
   "id": "28ccf337",
   "metadata": {},
   "outputs": [
    {
     "name": "stderr",
     "output_type": "stream",
     "text": [
      "<ipython-input-8-d4bd97eeaa67>:1: SettingWithCopyWarning: \n",
      "A value is trying to be set on a copy of a slice from a DataFrame.\n",
      "Try using .loc[row_indexer,col_indexer] = value instead\n",
      "\n",
      "See the caveats in the documentation: https://pandas.pydata.org/pandas-docs/stable/user_guide/indexing.html#returning-a-view-versus-a-copy\n",
      "  X_train[\"studio\"] = X_train[\"studio\"].str.split(\", \")\n",
      "<ipython-input-8-d4bd97eeaa67>:2: SettingWithCopyWarning: \n",
      "A value is trying to be set on a copy of a slice from a DataFrame.\n",
      "Try using .loc[row_indexer,col_indexer] = value instead\n",
      "\n",
      "See the caveats in the documentation: https://pandas.pydata.org/pandas-docs/stable/user_guide/indexing.html#returning-a-view-versus-a-copy\n",
      "  X_train[\"studio\"] = X_train[\"studio\"].apply(lambda studios: [studio.replace(\" \", \"\") for studio in studios])\n",
      "<ipython-input-8-d4bd97eeaa67>:3: SettingWithCopyWarning: \n",
      "A value is trying to be set on a copy of a slice from a DataFrame.\n",
      "Try using .loc[row_indexer,col_indexer] = value instead\n",
      "\n",
      "See the caveats in the documentation: https://pandas.pydata.org/pandas-docs/stable/user_guide/indexing.html#returning-a-view-versus-a-copy\n",
      "  X_train[\"studio\"] = X_train[\"studio\"].apply(lambda studios: \" \".join(studios))\n"
     ]
    }
   ],
   "source": [
    "X_train[\"studio\"] = X_train[\"studio\"].str.split(\", \")\n",
    "X_train[\"studio\"] = X_train[\"studio\"].apply(lambda studios: [studio.replace(\" \", \"\") for studio in studios])\n",
    "X_train[\"studio\"] = X_train[\"studio\"].apply(lambda studios: \" \".join(studios))"
   ]
  },
  {
   "cell_type": "code",
   "execution_count": 9,
   "id": "0ee50d39",
   "metadata": {},
   "outputs": [
    {
     "name": "stderr",
     "output_type": "stream",
     "text": [
      "<ipython-input-9-d98ab17dd08c>:3: SettingWithCopyWarning: \n",
      "A value is trying to be set on a copy of a slice from a DataFrame\n",
      "\n",
      "See the caveats in the documentation: https://pandas.pydata.org/pandas-docs/stable/user_guide/indexing.html#returning-a-view-versus-a-copy\n",
      "  X_train[\"synopsis\"][has_filler] = X_train[\"synopsis\"][has_filler].str.replace(filler, \"\").str.strip()\n",
      "/Users/peiyizhuo/opt/anaconda3/lib/python3.8/site-packages/pandas/core/series.py:992: SettingWithCopyWarning: \n",
      "A value is trying to be set on a copy of a slice from a DataFrame\n",
      "\n",
      "See the caveats in the documentation: https://pandas.pydata.org/pandas-docs/stable/user_guide/indexing.html#returning-a-view-versus-a-copy\n",
      "  self._where(~key, value, inplace=True)\n"
     ]
    }
   ],
   "source": [
    "filler = re.compile(r\"(?<=\\n)[^\\n]*$\")\n",
    "has_filler = X_train[\"synopsis\"].str.extractall(\"(.)$\").iloc[:, 0].str.match(\"[\\]\\)]\").reset_index(drop = True)\n",
    "X_train[\"synopsis\"][has_filler] = X_train[\"synopsis\"][has_filler].str.replace(filler, \"\").str.strip()"
   ]
  },
  {
   "cell_type": "markdown",
   "id": "282cce2f",
   "metadata": {},
   "source": [
    "## Build data transformation pipeline"
   ]
  },
  {
   "cell_type": "code",
   "execution_count": 10,
   "id": "4b976f8a",
   "metadata": {},
   "outputs": [],
   "source": [
    "from sklearn.compose import ColumnTransformer\n",
    "from sklearn.preprocessing import StandardScaler, OneHotEncoder\n",
    "from sklearn.feature_extraction.text import CountVectorizer\n",
    "\n",
    "pipeline = ColumnTransformer([\n",
    "    (\"normalized\", StandardScaler(), [\"score\", \"members\", \"episodes\"]),\n",
    "    # https://stackoverflow.com/questions/65242617/sklearn-pipeline-with-countvectorizer-and-category-on-a-pandas-dataframe\n",
    "    # https://stackoverflow.com/questions/58772181/columntransformer-fails-with-countvectorizer-in-a-pipeline\n",
    "    (\"synopsis\", CountVectorizer(stop_words = stopwords), \"synopsis\"),\n",
    "    (\"genre\", CountVectorizer(stop_words = None), \"genre\"),\n",
    "    (\"studio\", CountVectorizer(stop_words = None), \"studio\"),\n",
    "    (\"one_hot\", OneHotEncoder(drop = \"first\"), [\"type\", \"source\"])\n",
    "])"
   ]
  },
  {
   "cell_type": "code",
   "execution_count": 11,
   "id": "9000e4b5",
   "metadata": {},
   "outputs": [],
   "source": [
    "# https://stackoverflow.com/questions/23838056/what-is-the-difference-between-transform-and-fit-transform-in-sklearn\n",
    "X_train = pipeline.fit_transform(X_train)"
   ]
  },
  {
   "cell_type": "markdown",
   "id": "940ec865",
   "metadata": {},
   "source": [
    "## Select model type"
   ]
  },
  {
   "cell_type": "code",
   "execution_count": 12,
   "id": "e8bd267a",
   "metadata": {},
   "outputs": [],
   "source": [
    "from sklearn.linear_model import LogisticRegression\n",
    "from sklearn.tree import DecisionTreeClassifier\n",
    "from sklearn.ensemble import RandomForestClassifier\n",
    "from sklearn.model_selection import cross_val_score"
   ]
  },
  {
   "cell_type": "code",
   "execution_count": 13,
   "id": "31ae02ec",
   "metadata": {},
   "outputs": [
    {
     "name": "stdout",
     "output_type": "stream",
     "text": [
      "Logistic Regression: 0.6822 (0.0209)\n",
      "Decision Tree: 0.626 (0.0173)\n",
      "Random Forest: 0.6805 (0.0267)\n"
     ]
    }
   ],
   "source": [
    "logistic_reg = LogisticRegression()\n",
    "decision_tree = DecisionTreeClassifier()\n",
    "random_forest = RandomForestClassifier()\n",
    "\n",
    "models = {\"Logistic Regression\": logistic_reg,\n",
    "          \"Decision Tree\": decision_tree, \n",
    "          \"Random Forest\": random_forest}.items()\n",
    "for name, model in models:\n",
    "    scores = cross_val_score(model, X_train, y_train)\n",
    "    accuracy = np.round(np.mean(scores), decimals = 4)\n",
    "    std_dev = np.round(np.std(scores), decimals = 4)\n",
    "    print(f\"{name}: {str(accuracy)} ({str(std_dev)})\")"
   ]
  },
  {
   "cell_type": "markdown",
   "id": "a3b302df",
   "metadata": {},
   "source": [
    "I'll go with logistic regression for this exercise."
   ]
  },
  {
   "cell_type": "markdown",
   "id": "a01c496e",
   "metadata": {},
   "source": [
    "## Feature selection"
   ]
  },
  {
   "cell_type": "code",
   "execution_count": 14,
   "id": "d2ceb28b",
   "metadata": {},
   "outputs": [],
   "source": [
    "# Code from https://johaupt.github.io/blog/columnTransformer_feature_names.html\n",
    "\n",
    "import warnings\n",
    "import sklearn\n",
    "\n",
    "def get_feature_names(column_transformer):\n",
    "    \"\"\"Get feature names from all transformers.\n",
    "    Returns\n",
    "    -------\n",
    "    feature_names : list of strings\n",
    "        Names of the features produced by transform.\n",
    "    \"\"\"\n",
    "    # Remove the internal helper function\n",
    "    #check_is_fitted(column_transformer)\n",
    "    \n",
    "    # Turn loopkup into function for better handling with pipeline later\n",
    "    def get_names(trans):\n",
    "        # >> Original get_feature_names() method\n",
    "        if trans == 'drop' or (\n",
    "                hasattr(column, '__len__') and not len(column)):\n",
    "            return []\n",
    "        if trans == 'passthrough':\n",
    "            if hasattr(column_transformer, '_df_columns'):\n",
    "                if ((not isinstance(column, slice))\n",
    "                        and all(isinstance(col, str) for col in column)):\n",
    "                    return column\n",
    "                else:\n",
    "                    return column_transformer._df_columns[column]\n",
    "            else:\n",
    "                indices = np.arange(column_transformer._n_features)\n",
    "                return ['x%d' % i for i in indices[column]]\n",
    "        if not hasattr(trans, 'get_feature_names'):\n",
    "        # >>> Change: Return input column names if no method avaiable\n",
    "            # Turn error into a warning\n",
    "            warnings.warn(\"Transformer %s (type %s) does not \"\n",
    "                                 \"provide get_feature_names. \"\n",
    "                                 \"Will return input column names if available\"\n",
    "                                 % (str(name), type(trans).__name__))\n",
    "            # For transformers without a get_features_names method, use the input\n",
    "            # names to the column transformer\n",
    "            if column is None:\n",
    "                return []\n",
    "            else:\n",
    "                return [name + \"__\" + f for f in column]\n",
    "\n",
    "        return [name + \"__\" + f for f in trans.get_feature_names()]\n",
    "    \n",
    "    ### Start of processing\n",
    "    feature_names = []\n",
    "    \n",
    "    # Allow transformers to be pipelines. Pipeline steps are named differently, so preprocessing is needed\n",
    "    if type(column_transformer) == sklearn.pipeline.Pipeline:\n",
    "        l_transformers = [(name, trans, None, None) for step, name, trans in column_transformer._iter()]\n",
    "    else:\n",
    "        # For column transformers, follow the original method\n",
    "        l_transformers = list(column_transformer._iter(fitted=True))\n",
    "    \n",
    "    \n",
    "    for name, trans, column, _ in l_transformers: \n",
    "        if type(trans) == sklearn.pipeline.Pipeline:\n",
    "            # Recursive call on pipeline\n",
    "            _names = get_feature_names(trans)\n",
    "            # if pipeline has no transformer that returns names\n",
    "            if len(_names)==0:\n",
    "                _names = [name + \"__\" + f for f in column]\n",
    "            feature_names.extend(_names)\n",
    "        else:\n",
    "            feature_names.extend(get_names(trans))\n",
    "    \n",
    "    return feature_names"
   ]
  },
  {
   "cell_type": "code",
   "execution_count": 15,
   "id": "d71ed32b",
   "metadata": {},
   "outputs": [
    {
     "name": "stderr",
     "output_type": "stream",
     "text": [
      "<ipython-input-14-f73dc01914aa>:35: UserWarning: Transformer normalized (type StandardScaler) does not provide get_feature_names. Will return input column names if available\n",
      "  warnings.warn(\"Transformer %s (type %s) does not \"\n"
     ]
    }
   ],
   "source": [
    "logistic_reg.fit(X_train, y_train)\n",
    "coefs = pd.DataFrame(\n",
    "    {\"feature_names\": get_feature_names(pipeline),\n",
    "     \"coef\": logistic_reg.coef_[0]}\n",
    ")"
   ]
  },
  {
   "cell_type": "code",
   "execution_count": 16,
   "id": "3feb1cc4",
   "metadata": {},
   "outputs": [
    {
     "data": {
      "text/html": [
       "<div>\n",
       "<style scoped>\n",
       "    .dataframe tbody tr th:only-of-type {\n",
       "        vertical-align: middle;\n",
       "    }\n",
       "\n",
       "    .dataframe tbody tr th {\n",
       "        vertical-align: top;\n",
       "    }\n",
       "\n",
       "    .dataframe thead th {\n",
       "        text-align: right;\n",
       "    }\n",
       "</style>\n",
       "<table border=\"1\" class=\"dataframe\">\n",
       "  <thead>\n",
       "    <tr style=\"text-align: right;\">\n",
       "      <th></th>\n",
       "      <th>index</th>\n",
       "      <th>feature_names</th>\n",
       "      <th>coef</th>\n",
       "    </tr>\n",
       "  </thead>\n",
       "  <tbody>\n",
       "    <tr>\n",
       "      <th>0</th>\n",
       "      <td>1</td>\n",
       "      <td>normalized__members</td>\n",
       "      <td>1.823654</td>\n",
       "    </tr>\n",
       "    <tr>\n",
       "      <th>1</th>\n",
       "      <td>18646</td>\n",
       "      <td>genre__drama</td>\n",
       "      <td>1.203620</td>\n",
       "    </tr>\n",
       "    <tr>\n",
       "      <th>2</th>\n",
       "      <td>18930</td>\n",
       "      <td>one_hot__x1_Game</td>\n",
       "      <td>0.883151</td>\n",
       "    </tr>\n",
       "    <tr>\n",
       "      <th>3</th>\n",
       "      <td>15745</td>\n",
       "      <td>synopsis__strange</td>\n",
       "      <td>0.763197</td>\n",
       "    </tr>\n",
       "    <tr>\n",
       "      <th>4</th>\n",
       "      <td>0</td>\n",
       "      <td>normalized__score</td>\n",
       "      <td>0.707388</td>\n",
       "    </tr>\n",
       "    <tr>\n",
       "      <th>...</th>\n",
       "      <td>...</td>\n",
       "      <td>...</td>\n",
       "      <td>...</td>\n",
       "    </tr>\n",
       "    <tr>\n",
       "      <th>18936</th>\n",
       "      <td>13397</td>\n",
       "      <td>synopsis__relationship</td>\n",
       "      <td>-0.570069</td>\n",
       "    </tr>\n",
       "    <tr>\n",
       "      <th>18937</th>\n",
       "      <td>3833</td>\n",
       "      <td>synopsis__decides</td>\n",
       "      <td>-0.576928</td>\n",
       "    </tr>\n",
       "    <tr>\n",
       "      <th>18938</th>\n",
       "      <td>15219</td>\n",
       "      <td>synopsis__small</td>\n",
       "      <td>-0.633040</td>\n",
       "    </tr>\n",
       "    <tr>\n",
       "      <th>18939</th>\n",
       "      <td>4089</td>\n",
       "      <td>synopsis__detective</td>\n",
       "      <td>-0.667723</td>\n",
       "    </tr>\n",
       "    <tr>\n",
       "      <th>18940</th>\n",
       "      <td>11737</td>\n",
       "      <td>synopsis__original</td>\n",
       "      <td>-0.723352</td>\n",
       "    </tr>\n",
       "  </tbody>\n",
       "</table>\n",
       "<p>18941 rows × 3 columns</p>\n",
       "</div>"
      ],
      "text/plain": [
       "       index           feature_names      coef\n",
       "0          1     normalized__members  1.823654\n",
       "1      18646            genre__drama  1.203620\n",
       "2      18930        one_hot__x1_Game  0.883151\n",
       "3      15745       synopsis__strange  0.763197\n",
       "4          0       normalized__score  0.707388\n",
       "...      ...                     ...       ...\n",
       "18936  13397  synopsis__relationship -0.570069\n",
       "18937   3833       synopsis__decides -0.576928\n",
       "18938  15219         synopsis__small -0.633040\n",
       "18939   4089     synopsis__detective -0.667723\n",
       "18940  11737      synopsis__original -0.723352\n",
       "\n",
       "[18941 rows x 3 columns]"
      ]
     },
     "execution_count": 16,
     "metadata": {},
     "output_type": "execute_result"
    }
   ],
   "source": [
    "coefs.sort_values(by = \"coef\", ascending = False).reset_index()"
   ]
  },
  {
   "cell_type": "markdown",
   "id": "6cf0df14",
   "metadata": {},
   "source": [
    "The most important predictors of tearjerker anime are the number of members who have the anime on their animelist and whether the anime is a drama or not. This finding coinsides with the visualizations from the EDA."
   ]
  },
  {
   "cell_type": "code",
   "execution_count": 17,
   "id": "9377ccd1",
   "metadata": {},
   "outputs": [],
   "source": [
    "from sklearn.feature_selection import SelectFromModel"
   ]
  },
  {
   "cell_type": "code",
   "execution_count": 18,
   "id": "7eeeffa4",
   "metadata": {},
   "outputs": [],
   "source": [
    "# https://stackoverflow.com/questions/477486/how-do-i-use-a-decimal-step-value-for-range\n",
    "accuracies = []\n",
    "multiples = np.linspace(0, 4, 401)\n",
    "for multiple in multiples:\n",
    "    threshold = np.std(coefs[\"coef\"].values) * multiple\n",
    "    selector = SelectFromModel(logistic_reg, threshold = threshold, prefit = True)\n",
    "    X_train_2 = selector.transform(X_train)\n",
    "    logistic_reg_2 = LogisticRegression()\n",
    "    scores = cross_val_score(logistic_reg_2, X_train_2, y_train)\n",
    "    accuracy = np.mean(scores)\n",
    "    accuracies.append(accuracy)\n",
    "\n",
    "accuracies = pd.DataFrame({\"multiple\": multiples, \"accuracy\": accuracies})"
   ]
  },
  {
   "cell_type": "code",
   "execution_count": 19,
   "id": "19ec6ddf",
   "metadata": {},
   "outputs": [
    {
     "data": {
      "image/png": "[encoded data removed]",
      "text/plain": [
       "<Figure size 432x288 with 1 Axes>"
      ]
     },
     "metadata": {
      "needs_background": "light"
     },
     "output_type": "display_data"
    }
   ],
   "source": [
    "plt.plot(accuracies[\"multiple\"], accuracies[\"accuracy\"])\n",
    "max_multiple = accuracies[accuracies[\"accuracy\"] == accuracies[\"accuracy\"].max()][\"multiple\"].values\n",
    "plt.axvline(x = max_multiple, color = \"red\", linestyle = \"--\")\n",
    "plt.xlabel(\"Standard deviations\")\n",
    "plt.ylabel(\"Average accuracy\")\n",
    "\n",
    "plt.tight_layout()\n",
    "plt.savefig(\"plots/feature_selection.png\", dpi = 300)"
   ]
  },
  {
   "cell_type": "code",
   "execution_count": 20,
   "id": "8aefd0da",
   "metadata": {},
   "outputs": [
    {
     "data": {
      "image/png": "[encoded data removed]",
      "text/plain": [
       "<Figure size 432x288 with 1 Axes>"
      ]
     },
     "metadata": {
      "needs_background": "light"
     },
     "output_type": "display_data"
    }
   ],
   "source": [
    "coefs[\"coef\"].hist(bins = 100, edgecolor = \"black\")\n",
    "plt.xlabel(\"Coefficient\")\n",
    "threshold = np.std(coefs[\"coef\"].values) * max_multiple\n",
    "plt.axvline(x = threshold, color = \"red\", linestyle = \"--\")\n",
    "plt.axvline(x = -threshold, color = \"red\", linestyle = \"--\")\n",
    "\n",
    "plt.tight_layout()\n",
    "plt.savefig(\"plots/coef_hist.png\", dpi = 300)"
   ]
  },
  {
   "cell_type": "markdown",
   "id": "22e9e3c4",
   "metadata": {},
   "source": [
    "# Takeaways"
   ]
  },
  {
   "cell_type": "markdown",
   "id": "fd80aa26",
   "metadata": {},
   "source": [
    "I used Aurélion Géron's *Hands-On Machine Learning with Scikit-Learn, Keras, and TensorFlow* as a reference text during this project. In it, Géron emphasizes the importance of creating a test set prior to any modeling so that it can be used to honestly assess how well your final model generalizes. I initially failed to adhere to this rule and so had to generate a brand new test set by randomly resampling 25% of the data set after already fitting my models on a previously sampled 25%. (Although I generated a new test set, overfitting might still pose an issue since I had been modifying my target vector to improve performance on the previous test set, and some of the data from the previous test set is still present within the new test set.) Indeed, I was so euthusiastic about modeling that I didn't give every step of the machine learning process its due, specifically EDA. After starting over with a new test set, I decided to spend additional time on EDA *before* proceeding to modeling. Having learned these lessons, I know that I'll allot the appropriate amount of time to EDA and be more concious of data leakage in the future."
   ]
  },
  {
   "cell_type": "markdown",
   "id": "ac58f1eb",
   "metadata": {},
   "source": [
    "# Note on potential overfitting"
   ]
  },
  {
   "cell_type": "markdown",
   "id": "5f400aea",
   "metadata": {},
   "source": [
    "# Acknowledgements"
   ]
  },
  {
   "cell_type": "markdown",
   "id": "d07ccb67",
   "metadata": {},
   "source": [
    "These projects were especially helpful in helping me create my own.\n",
    "\n",
    "- [Finding Anime Genre Based on Synopsis(Logistic Reg](https://www.kaggle.com/code/shsagar/finding-anime-genre-based-on-synopsis-logistic-reg)\n",
    "- [A Beginner's Guide to Sentiment Analysis with Python](https://towardsdatascience.com/a-beginners-guide-to-sentiment-analysis-in-python-95e354ea84f6)\n",
    "\n",
    "I also relied on this [regular expression cheat sheet](https://cheatography.com/davechild/cheat-sheets/regular-expressions/)."
   ]
  }
 ],
 "metadata": {
  "kernelspec": {
   "display_name": "Python 3",
   "language": "python",
   "name": "python3"
  },
  "language_info": {
   "codemirror_mode": {
    "name": "ipython",
    "version": 3
   },
   "file_extension": ".py",
   "mimetype": "text/x-python",
   "name": "python",
   "nbconvert_exporter": "python",
   "pygments_lexer": "ipython3",
   "version": "3.8.8"
  }
 },
 "nbformat": 4,
 "nbformat_minor": 5
}
